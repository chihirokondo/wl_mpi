{
 "cells": [
  {
   "cell_type": "code",
   "execution_count": 43,
   "id": "accessory-characterization",
   "metadata": {},
   "outputs": [],
   "source": [
    "%matplotlib inline\n",
    "import glob\n",
    "import json\n",
    "import math\n",
    "import matplotlib.pyplot as plt"
   ]
  },
  {
   "cell_type": "code",
   "execution_count": 44,
   "id": "comparable-description",
   "metadata": {},
   "outputs": [],
   "source": [
    "def parse_json_file(filename):\n",
    "    f = open(filename, 'r')\n",
    "    return json.load(f)"
   ]
  },
  {
   "cell_type": "code",
   "execution_count": 46,
   "id": "utility-damages",
   "metadata": {},
   "outputs": [
    {
     "name": "stdout",
     "output_type": "stream",
     "text": [
      "data_exact/Lx4Ly4.json\n"
     ]
    },
    {
     "data": {
      "image/png": "[encoded data removed]",
      "text/plain": [
       "<Figure size 432x288 with 1 Axes>"
      ]
     },
     "metadata": {
      "needs_background": "light"
     },
     "output_type": "display_data"
    },
    {
     "name": "stdout",
     "output_type": "stream",
     "text": [
      "classical ferro ising\n"
     ]
    },
    {
     "data": {
      "image/png": "[encoded data removed]",
      "text/plain": [
       "<Figure size 432x288 with 1 Axes>"
      ]
     },
     "metadata": {
      "needs_background": "light"
     },
     "output_type": "display_data"
    }
   ],
   "source": [
    "if __name__ == \"__main__\":\n",
    "    for filename in glob.glob('data_exact/*.json'):\n",
    "        exact_json = parse_json_file(filename)\n",
    "        exact_json[\"dos\"] = [int(i) for i in exact_json[\"dos\"]]\n",
    "        ln_dos = [0 if i==0 else math.log(i) for i in exact_json[\"dos\"]]\n",
    "        plt.plot(exact_json[\"ln_dos\"], 'o')\n",
    "        plt.show()\n",
    "    for filename in glob.glob('data_wl/*.json'):\n",
    "        wl_json = parse_json_file(filename)\n",
    "        if (wl_json[\"lattice_length_x\"] == 4):\n",
    "            plt.plot(wl_json[\"ln_dos\"], 'o')\n",
    "            plt.show()"
   ]
  },
  {
   "cell_type": "code",
   "execution_count": null,
   "id": "massive-slide",
   "metadata": {},
   "outputs": [],
   "source": []
  }
 ],
 "metadata": {
  "kernelspec": {
   "display_name": "Python 3",
   "language": "python",
   "name": "python3"
  },
  "language_info": {
   "codemirror_mode": {
    "name": "ipython",
    "version": 3
   },
   "file_extension": ".py",
   "mimetype": "text/x-python",
   "name": "python",
   "nbconvert_exporter": "python",
   "pygments_lexer": "ipython3",
   "version": "3.9.0"
  }
 },
 "nbformat": 4,
 "nbformat_minor": 5
}
